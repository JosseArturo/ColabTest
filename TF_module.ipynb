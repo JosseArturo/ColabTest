{
  "nbformat": 4,
  "nbformat_minor": 0,
  "metadata": {
    "colab": {
      "name": "Test1.ipynb",
      "version": "0.3.2",
      "provenance": [],
      "include_colab_link": true
    },
    "kernelspec": {
      "name": "python3",
      "display_name": "Python 3"
    },
    "accelerator": "GPU"
  },
  "cells": [
    {
      "cell_type": "markdown",
      "metadata": {
        "id": "view-in-github",
        "colab_type": "text"
      },
      "source": [
        "<a href=\"https://colab.research.google.com/github/JosseArturo/ColabTest/blob/master/TF_module.ipynb\" target=\"_parent\"><img src=\"https://colab.research.google.com/assets/colab-badge.svg\" alt=\"Open In Colab\"/></a>"
      ]
    },
    {
      "metadata": {
        "id": "8c0jAmG0aYSq",
        "colab_type": "code",
        "colab": {}
      },
      "cell_type": "code",
      "source": [
        "import tensorflow as tf"
      ],
      "execution_count": 0,
      "outputs": []
    },
    {
      "metadata": {
        "id": "2YtesAfiVg4c",
        "colab_type": "code",
        "colab": {
          "base_uri": "https://localhost:8080/",
          "height": 34
        },
        "outputId": "80787bd7-392b-4be5-ba97-65ab3737dff0"
      },
      "cell_type": "code",
      "source": [
        "# Create TensorFlow object called tensor\n",
        "hello_constant = tf.constant('Hello World!')\n",
        "\n",
        "with tf.Session() as sess:\n",
        "    # Run the tf.constant operation in the session\n",
        "    output = sess.run(hello_constant)\n",
        "    print(output)"
      ],
      "execution_count": 4,
      "outputs": [
        {
          "output_type": "stream",
          "text": [
            "b'Hello World!'\n"
          ],
          "name": "stdout"
        }
      ]
    },
    {
      "metadata": {
        "id": "dF4SLN3dlNh4",
        "colab_type": "code",
        "colab": {
          "base_uri": "https://localhost:8080/",
          "height": 34
        },
        "outputId": "25dc6b91-cee8-4286-e082-affba6e5287b"
      },
      "cell_type": "code",
      "source": [
        "x = tf.placeholder(tf.string)\n",
        "y = tf.placeholder(tf.int32)\n",
        "z = tf.placeholder(tf.float32)\n",
        "\n",
        "with tf.Session() as sess:\n",
        "    output = sess.run(x, feed_dict={x: 'Test String', y: 123, z: 45.67})\n",
        "    print (output)"
      ],
      "execution_count": 8,
      "outputs": [
        {
          "output_type": "stream",
          "text": [
            "Test String\n"
          ],
          "name": "stdout"
        }
      ]
    },
    {
      "metadata": {
        "id": "XGavBpyymwc2",
        "colab_type": "code",
        "colab": {
          "base_uri": "https://localhost:8080/",
          "height": 34
        },
        "outputId": "e9632bbb-5587-424e-9383-847e47df3f6f"
      },
      "cell_type": "code",
      "source": [
        " \n",
        "x = tf.constant(10)\n",
        "y = tf.constant(2)\n",
        "z = tf.subtract(tf.divide(x,y),tf.cast(tf.constant(1),tf.float64))\n",
        " \n",
        "with tf.Session() as sess:\n",
        "    output = sess.run(z)\n",
        "    print(output)"
      ],
      "execution_count": 14,
      "outputs": [
        {
          "output_type": "stream",
          "text": [
            "4.0\n"
          ],
          "name": "stdout"
        }
      ]
    },
    {
      "metadata": {
        "id": "XNJ6z44u9uIj",
        "colab_type": "code",
        "colab": {}
      },
      "cell_type": "code",
      "source": [
        "##############################\n",
        "#Logistic Classifier\n",
        "##############################"
      ],
      "execution_count": 0,
      "outputs": []
    },
    {
      "metadata": {
        "id": "n0fW0M5Anr3Q",
        "colab_type": "code",
        "colab": {}
      },
      "cell_type": "code",
      "source": [
        "#Logistic Classifier\n",
        "\n",
        "import tensorflow as tf\n",
        "\n",
        "def get_weights(n_features, n_labels):\n",
        "    \"\"\"\n",
        "    Return TensorFlow weights\n",
        "    :param n_features: Number of features\n",
        "    :param n_labels: Number of labels\n",
        "    :return: TensorFlow weights\n",
        "    \"\"\"\n",
        "    get_weights = tf.Variable(tf.truncated_normal((n_features, n_labels)))\n",
        "    # TODO: Return weights\n",
        "    return get_weights\n",
        "\n",
        "\n",
        "def get_biases(n_labels):\n",
        "    \"\"\"\n",
        "    Return TensorFlow bias\n",
        "    :param n_labels: Number of labels\n",
        "    :return: TensorFlow bias\n",
        "    \"\"\"\n",
        "    get_biases = tf.Variable(tf.zeros(n_labels))\n",
        "    # TODO: Return biases\n",
        "    return get_biases\n",
        "\n",
        "\n",
        "def linear(input, w, b):\n",
        "    \"\"\"\n",
        "    Return linear function in TensorFlow\n",
        "    :param input: TensorFlow input\n",
        "    :param w: TensorFlow weights\n",
        "    :param b: TensorFlow biases\n",
        "    :return: TensorFlow linear function\n",
        "    \"\"\"\n",
        "    y=  tf.add(tf.matmul(input,w),b)\n",
        "    # TODO: Linear Function (xW + b)\n",
        "    \n",
        "    return y\n",
        "  "
      ],
      "execution_count": 0,
      "outputs": []
    },
    {
      "metadata": {
        "id": "wPd2fWE76hcj",
        "colab_type": "code",
        "colab": {
          "base_uri": "https://localhost:8080/",
          "height": 102
        },
        "outputId": "6f07313b-406d-46f2-fcc0-d02f1db6c06b"
      },
      "cell_type": "code",
      "source": [
        "mport tensorflow as tf\n",
        "from tensorflow.examples.tutorials.mnist import input_data\n",
        "from test import *\n",
        "\n",
        "def mnist_features_labels(n_labels):\n",
        "    \"\"\"\n",
        "    Gets the first <n> labels from the MNIST dataset\n",
        "    :param n_labels: Number of labels to use\n",
        "    :return: Tuple of feature list and label list\n",
        "    \"\"\"\n",
        "    mnist_features = []\n",
        "    mnist_labels = []\n",
        "\n",
        "    mnist = input_data.read_data_sets('/datasets/ud730/mnist', one_hot=True)\n",
        "\n",
        "    # In order to make quizzes run faster, we're only looking at 10000 images\n",
        "    for mnist_feature, mnist_label in zip(*mnist.train.next_batch(10000)):\n",
        "\n",
        "        # Add features and labels if it's for the first <n>th labels\n",
        "        if mnist_label[:n_labels].any():\n",
        "            mnist_features.append(mnist_feature)\n",
        "            mnist_labels.append(mnist_label[:n_labels])\n",
        "\n",
        "    return mnist_features, mnist_labels\n",
        "\n",
        "\n",
        "# Number of features (28*28 image is 784 features)\n",
        "n_features = 784\n",
        "# Number of labels\n",
        "n_labels = 3\n",
        "\n",
        "# Features and Labels\n",
        "features = tf.placeholder(tf.float32)\n",
        "labels = tf.placeholder(tf.float32)\n",
        "\n",
        "# Weights and Biases\n",
        "w = get_weights(n_features, n_labels)\n",
        "b = get_biases(n_labels)\n",
        "\n",
        "# Linear Function xW + b\n",
        "logits = linear(features, w, b)\n",
        "\n",
        "# Training data\n",
        "train_features, train_labels = mnist_features_labels(n_labels)\n",
        "init = tf.global_variables_initializer()\n",
        "\n",
        "\n",
        "with tf.Session() as session:\n",
        "    # TODO: Initialize session variables\n",
        "    session.run(init)\n",
        "    # Softmax\n",
        "    prediction = tf.nn.softmax(logits)\n",
        "\n",
        "    # Cross entropy\n",
        "    # This quantifies how far off the predictions were.\n",
        "    # You'll learn more about this in future lessons.\n",
        "    cross_entropy = -tf.reduce_sum(labels * tf.log(prediction), reduction_indices=1)\n",
        "\n",
        "    # Training loss\n",
        "    # You'll learn more about this in future lessons.\n",
        "    loss = tf.reduce_mean(cross_entropy)\n",
        "\n",
        "    # Rate at which the weights are changed\n",
        "    # You'll learn more about this in future lessons.\n",
        "    learning_rate = 0.08\n",
        "\n",
        "    # Gradient Descent\n",
        "    # This is the method used to train the model\n",
        "    # You'll learn more about this in future lessons.\n",
        "    optimizer = tf.train.GradientDescentOptimizer(learning_rate).minimize(loss)\n",
        "\n",
        "    # Run optimizer and get loss\n",
        "    _, l = session.run(\n",
        "        [optimizer, loss],\n",
        "        feed_dict={features: train_features, labels: train_labels})\n",
        "\n",
        "# Print loss\n",
        "print('Loss: {}'.format(l))\n",
        "\n"
      ],
      "execution_count": 17,
      "outputs": [
        {
          "output_type": "stream",
          "text": [
            "Extracting /datasets/ud730/mnist/train-images-idx3-ubyte.gz\n",
            "Extracting /datasets/ud730/mnist/train-labels-idx1-ubyte.gz\n",
            "Extracting /datasets/ud730/mnist/t10k-images-idx3-ubyte.gz\n",
            "Extracting /datasets/ud730/mnist/t10k-labels-idx1-ubyte.gz\n",
            "Loss: 15.78938102722168\n"
          ],
          "name": "stdout"
        }
      ]
    },
    {
      "metadata": {
        "id": "NJqB7_yf9ZsI",
        "colab_type": "code",
        "colab": {
          "base_uri": "https://localhost:8080/",
          "height": 68
        },
        "outputId": "7b9fc2fd-3ac0-48e2-c8ff-503b874227d3"
      },
      "cell_type": "code",
      "source": [
        "##Grader done by Udacity\n",
        "\n",
        "import numpy as np\n",
        "import tensorflow as tf\n",
        "from tensorflow.python.framework.errors import FailedPreconditionError\n",
        "import os\n",
        "import sys\n",
        "\n",
        "def is_weights_good(w):\n",
        "    w_answer = [[-0.01811021,  0.51838213],\n",
        " [ 0.05832403, -0.48847285],\n",
        " [-0.37598562, -0.7711397 ],\n",
        " [-0.5922465, -0.3118519 ],\n",
        " [ 0.21055079, -1.1010232 ]] \n",
        "    \n",
        "    with tf.Session() as sess:\n",
        "        sess.run(tf.global_variables_initializer())\n",
        "        w_result = sess.run(w)\n",
        "      \n",
        "    return np.allclose(w_answer, w_result)\n",
        "\n",
        "\n",
        "def is_biases_good(b):\n",
        "    b_answer = [0.0, 0.0]\n",
        "    \n",
        "    with tf.Session() as sess:\n",
        "        sess.run(tf.global_variables_initializer())\n",
        "        b_result = sess.run(b)\n",
        "        \n",
        "    return np.array_equal(b_answer, b_result)\n",
        "\n",
        "\n",
        "def is_linear_good(l, test_input):\n",
        "    \n",
        "    logits_answer = [[-2.34565091, -9.52450562],[-8.03849602, -9.28480148]]\n",
        "\n",
        "    with tf.Session() as sess:\n",
        "        sess.run(tf.global_variables_initializer())\n",
        "        logits_result = sess.run(l, feed_dict={test_input: [[1,2,3,4,5], [6,7,8,9,0]]})\n",
        "        \n",
        "    return np.allclose(logits_answer, logits_result)\n",
        "\n",
        "def get_result(get_weights, get_biases, linear):\n",
        "    result = {\n",
        "        'correct': False,\n",
        "        'feedback': 'That\\'s the wrong answer.',\n",
        "        'comment': ''}\n",
        "\n",
        "    tf.set_random_seed(123456)\n",
        "    \n",
        "    n_features = 5\n",
        "    n_labels = 2\n",
        "    test_input = tf.placeholder(tf.float32)\n",
        "    \n",
        "    weights = get_weights(n_features, n_labels)\n",
        "    biases = get_biases(n_labels)\n",
        "    lin = linear(test_input, weights, biases)\n",
        "\n",
        "    if not isinstance(weights, tf.Variable):\n",
        "        result['feedback'] = 'Function weights not returning tf.Variable type.'\n",
        "        result['comment'] = 'Use the tf.Variable function.'\n",
        "    elif not isinstance(biases, tf.Variable):\n",
        "        result['feedback'] = 'Function biases not returning tf.Variable type.'\n",
        "        result['comment'] = 'Use the tf.Variable function.'\n",
        "    elif weights.get_shape() != (n_features, n_labels):\n",
        "        result['feedback'] = 'Function weights is returning the wrong shape.'\n",
        "    elif biases.get_shape() != n_labels:\n",
        "        result['feedback'] = 'Function biases is returning the wrong shape.'\n",
        "    elif not is_weights_good(weights):\n",
        "        result['feedback'] = 'Function weights isn\\'t correct.'\n",
        "    elif not is_biases_good(biases):\n",
        "        result['feedback'] = 'Function biases isn\\'t correct.'\n",
        "    elif not is_linear_good(lin, test_input):\n",
        "        import pdb;pdb.set_trace()\n",
        "        result['feedback'] = 'Function linear isn\\'t correct.'\n",
        "    else:\n",
        "        try:\n",
        "            std_out = sys.stdout\n",
        "            f = open(os.devnull, 'w')\n",
        "            sys.stdout = f\n",
        "        \n",
        "        except FailedPreconditionError as err:\n",
        "            if err.message.startswith('Attempting to use uninitialized value Variable'):\n",
        "                result['feedback'] = 'At least one variable is not initialized.'\n",
        "            else:\n",
        "                raise err\n",
        "        else:\n",
        "            result['correct'] = True\n",
        "            result['feedback'] = 'You got it!  That\\'s the correct answer.'\n",
        "        finally:\n",
        "            sys.stdout = std_out\n",
        "    return result\n",
        "\n",
        "def run_grader(get_weights, get_biases, linear):\n",
        "    \n",
        "    try:\n",
        "    # Get grade result information\n",
        "        result = get_result(get_weights, get_biases, linear)\n",
        "    except Exception as err:\n",
        "        # Default error result\n",
        "        result = {\n",
        "            'correct': False,\n",
        "            'feedback': 'Something went wrong with your submission:',\n",
        "            'comment': str(err)}\n",
        "\n",
        "    feedback = result.get('feedback')\n",
        "    comment = result.get('comment')\n",
        "\n",
        "    print(f\"{feedback}\\n{comment}\\n\")\n",
        "\n",
        "\n",
        "\n",
        "if __name__ == \"__main__\":\n",
        "    run_grader(get_weights, get_biases, linear)"
      ],
      "execution_count": 19,
      "outputs": [
        {
          "output_type": "stream",
          "text": [
            "Function weights isn't correct.\n",
            "\n",
            "\n"
          ],
          "name": "stdout"
        }
      ]
    },
    {
      "metadata": {
        "id": "BaCqJvDt6n8A",
        "colab_type": "code",
        "colab": {
          "base_uri": "https://localhost:8080/",
          "height": 68
        },
        "outputId": "0a0244ab-a8a9-4bb8-c2a9-555ae7a723e8"
      },
      "cell_type": "code",
      "source": [
        "\n",
        "### DON'T MODIFY ANYTHING BELOW ###\n",
        "### Be sure to run all cells above before running this cell ###\n",
        "#import grader\n",
        "\n",
        "try:\n",
        "    run_grader(get_weights, get_biases, linear)\n",
        "except Exception as err:\n",
        "    print(str(err))"
      ],
      "execution_count": 22,
      "outputs": [
        {
          "output_type": "stream",
          "text": [
            "Function weights isn't correct.\n",
            "\n",
            "\n"
          ],
          "name": "stdout"
        }
      ]
    },
    {
      "metadata": {
        "id": "YM4M2_t29ypJ",
        "colab_type": "code",
        "colab": {}
      },
      "cell_type": "code",
      "source": [
        "##############################\n",
        "#Logistic Classifier ends\n",
        "##############################"
      ],
      "execution_count": 0,
      "outputs": []
    },
    {
      "metadata": {
        "id": "klc7atrO9Y65",
        "colab_type": "code",
        "colab": {}
      },
      "cell_type": "code",
      "source": [
        "##############################\n",
        "#Softmax function\n",
        "##############################"
      ],
      "execution_count": 0,
      "outputs": []
    },
    {
      "metadata": {
        "id": "3BUScLk6q4x4",
        "colab_type": "code",
        "colab": {
          "base_uri": "https://localhost:8080/",
          "height": 34
        },
        "outputId": "b27d244a-39fc-4177-aaab-afcb10d2282f"
      },
      "cell_type": "code",
      "source": [
        "# Solution is available in the other \"solution.py\" tab\n",
        "import numpy as np\n",
        "\n",
        "\n",
        "def softmax(x):\n",
        "    \"\"\"Compute softmax values for each sets of scores in x.\"\"\"\n",
        "    # TODO: Compute and return softmax(x)\n",
        "    return np.exp(x)/np.sum(np.exp(x))\n",
        "    \n",
        "logits = [3.0, 1.0, 0.2]\n",
        "print(softmax(logits))\n"
      ],
      "execution_count": 5,
      "outputs": [
        {
          "output_type": "stream",
          "text": [
            "[0.8360188  0.11314284 0.05083836]\n"
          ],
          "name": "stdout"
        }
      ]
    },
    {
      "metadata": {
        "id": "nJEKzT-JtfkS",
        "colab_type": "code",
        "colab": {}
      },
      "cell_type": "code",
      "source": [
        "##############################\n",
        "#Softmax function TENSOR\n",
        "##############################\n",
        "\n",
        "[0.6590012 0.242433  0.0985659]"
      ],
      "execution_count": 0,
      "outputs": []
    },
    {
      "metadata": {
        "id": "02n4xpqVuLSy",
        "colab_type": "code",
        "colab": {
          "base_uri": "https://localhost:8080/",
          "height": 34
        },
        "outputId": "95737fc8-b97a-420f-d22d-659db0e877e0"
      },
      "cell_type": "code",
      "source": [
        "import tensorflow as tf\n",
        "\n",
        "\n",
        "def run():\n",
        "    output = None\n",
        "    logit_data = [2.0, 1.0, 0.1]\n",
        "    logits = tf.constant(logit_data)\n",
        "    #logits = tf.placeholder(tf.float32)\n",
        "    \n",
        "    # TODO: Calculate the softmax of the logits\n",
        "    softmax = tf.nn.softmax(logits)\n",
        "    \n",
        "    with tf.Session() as sess:\n",
        "        pass\n",
        "        # TODO: Feed in the logit data\n",
        "        output = sess.run(softmax, feed_dict={logits:logit_data})   \n",
        "   \n",
        "    return output\n",
        "  \n",
        "out = run()\n",
        "print (out)"
      ],
      "execution_count": 13,
      "outputs": [
        {
          "output_type": "stream",
          "text": [
            "[0.6590012 0.242433  0.0985659]\n"
          ],
          "name": "stdout"
        }
      ]
    },
    {
      "metadata": {
        "id": "Qs2uYu2i4SEz",
        "colab_type": "code",
        "colab": {}
      },
      "cell_type": "code",
      "source": [
        "##############################\n",
        "#Mini Batch\n",
        "##############################\n"
      ],
      "execution_count": 0,
      "outputs": []
    },
    {
      "metadata": {
        "id": "aN4sOyws-qG5",
        "colab_type": "code",
        "colab": {}
      },
      "cell_type": "code",
      "source": [
        "import math\n",
        "def batches(batch_size, features, labels):\n",
        "    \"\"\"\n",
        "    Create batches of features and labels\n",
        "    :param batch_size: The batch size\n",
        "    :param features: List of features\n",
        "    :param labels: List of labels\n",
        "    :return: Batches of (Features, Labels)\n",
        "    \"\"\"\n",
        "    assert len(features) == len(labels)\n",
        "    outout_batches = []\n",
        "    \n",
        "    sample_size = len(features)\n",
        "    for start_i in range(0, sample_size, batch_size):\n",
        "        end_i = start_i + batch_size\n",
        "        batch = [features[start_i:end_i], labels[start_i:end_i]]\n",
        "        outout_batches.append(batch)\n",
        "        \n",
        "    return outout_batches"
      ],
      "execution_count": 0,
      "outputs": []
    },
    {
      "metadata": {
        "id": "BGBdB3ln4Sxz",
        "colab_type": "code",
        "colab": {
          "base_uri": "https://localhost:8080/",
          "height": 85
        },
        "outputId": "c64d1c6a-4509-4a8c-95d8-a6f1295f104b"
      },
      "cell_type": "code",
      "source": [
        "from tensorflow.examples.tutorials.mnist import input_data\n",
        "import tensorflow as tf\n",
        "import numpy as np\n",
        "\n",
        "learning_rate = 0.05\n",
        "n_input = 784  # MNIST data input (img shape: 28*28)\n",
        "n_classes = 10  # MNIST total classes (0-9 digits)\n",
        "\n",
        "# Import MNIST data\n",
        "mnist = input_data.read_data_sets('/datasets/ud730/mnist', one_hot=True)\n",
        "\n",
        "# The features are already scaled and the data is shuffled\n",
        "train_features = mnist.train.images\n",
        "test_features = mnist.test.images\n",
        "\n",
        "train_labels = mnist.train.labels.astype(np.float32)\n",
        "test_labels = mnist.test.labels.astype(np.float32)\n",
        "\n",
        "# Features and Labels\n",
        "features = tf.placeholder(tf.float32, [None, n_input])\n",
        "labels = tf.placeholder(tf.float32, [None, n_classes])\n",
        "\n",
        "# Weights & bias\n",
        "weights = tf.Variable(tf.random_normal([n_input, n_classes]))\n",
        "bias = tf.Variable(tf.random_normal([n_classes]))\n",
        "\n",
        "# Logits - xW + b\n",
        "logits = tf.add(tf.matmul(features, weights), bias)\n",
        "\n",
        "# Define loss and optimizer\n",
        "cost = tf.reduce_mean(tf.nn.softmax_cross_entropy_with_logits(logits=logits, labels=labels))\n",
        "optimizer = tf.train.GradientDescentOptimizer(learning_rate=learning_rate).minimize(cost)\n",
        "\n",
        "# Calculate accuracy\n",
        "correct_prediction = tf.equal(tf.argmax(logits, 1), tf.argmax(labels, 1))\n",
        "accuracy = tf.reduce_mean(tf.cast(correct_prediction, tf.float32))"
      ],
      "execution_count": 10,
      "outputs": [
        {
          "output_type": "stream",
          "text": [
            "Extracting /datasets/ud730/mnist/train-images-idx3-ubyte.gz\n",
            "Extracting /datasets/ud730/mnist/train-labels-idx1-ubyte.gz\n",
            "Extracting /datasets/ud730/mnist/t10k-images-idx3-ubyte.gz\n",
            "Extracting /datasets/ud730/mnist/t10k-labels-idx1-ubyte.gz\n"
          ],
          "name": "stdout"
        }
      ]
    },
    {
      "metadata": {
        "id": "DgCLrU_Y-d6Q",
        "colab_type": "code",
        "colab": {
          "base_uri": "https://localhost:8080/",
          "height": 34
        },
        "outputId": "0a1e5bbd-819b-4694-f382-412b283b1458"
      },
      "cell_type": "code",
      "source": [
        "# TODO: Set batch size\n",
        "batch_size = 32\n",
        "assert batch_size is not None, 'You must set the batch size'\n",
        "\n",
        "init = tf.global_variables_initializer()\n",
        "\n",
        "with tf.Session() as sess:\n",
        "    sess.run(init)\n",
        "    for i in range(100): #Added to get more iteractions an improve gradient retropropagation\n",
        "        # TODO: Train optimizer on all batches\n",
        "        for batch_features, batch_labels in batches(batch_size, train_features, train_labels):\n",
        "        # for batch_features, batch_labels in ______\n",
        "            sess.run(optimizer, feed_dict={features: batch_features, labels: batch_labels})\n",
        "\n",
        "    # Calculate accuracy for test dataset\n",
        "    test_accuracy = sess.run(accuracy, feed_dict={features: test_features, labels: test_labels})\n",
        "\n",
        "print('Test Accuracy: {}'.format(test_accuracy))"
      ],
      "execution_count": 14,
      "outputs": [
        {
          "output_type": "stream",
          "text": [
            "Test Accuracy: 0.9190999865531921\n"
          ],
          "name": "stdout"
        }
      ]
    },
    {
      "metadata": {
        "id": "-cRQ4RU5_kPQ",
        "colab_type": "code",
        "colab": {}
      },
      "cell_type": "code",
      "source": [
        "##############################\n",
        "#Whole Process with Epochs\n",
        "##############################\n"
      ],
      "execution_count": 0,
      "outputs": []
    },
    {
      "metadata": {
        "id": "ZMchBMo9Ji2R",
        "colab_type": "code",
        "colab": {}
      },
      "cell_type": "code",
      "source": [
        "from tensorflow.examples.tutorials.mnist import input_data\n",
        "import tensorflow as tf\n",
        "import numpy as np\n",
        "from helper import batches  # Helper function created in Mini-batching section\n",
        "\n",
        "\n",
        "def print_epoch_stats(epoch_i, sess, last_features, last_labels):\n",
        "    \"\"\"\n",
        "    Print cost and validation accuracy of an epoch\n",
        "    \"\"\"\n",
        "    current_cost = sess.run(\n",
        "        cost,\n",
        "        feed_dict={features: last_features, labels: last_labels})\n",
        "    valid_accuracy = sess.run(\n",
        "        accuracy,\n",
        "        feed_dict={features: valid_features, labels: valid_labels})\n",
        "    print('Epoch: {:<4} - Cost: {:<8.3} Valid Accuracy: {:<5.3}'.format(\n",
        "        epoch_i,\n",
        "        current_cost,\n",
        "        valid_accuracy))\n",
        "\n",
        "n_input = 784  # MNIST data input (img shape: 28*28)\n",
        "n_classes = 10  # MNIST total classes (0-9 digits)\n",
        "\n",
        "# Import MNIST data\n",
        "mnist = input_data.read_data_sets('/datasets/ud730/mnist', one_hot=True)\n",
        "\n",
        "# The features are already scaled and the data is shuffled\n",
        "train_features = mnist.train.images\n",
        "valid_features = mnist.validation.images\n",
        "test_features = mnist.test.images\n",
        "\n",
        "train_labels = mnist.train.labels.astype(np.float32)\n",
        "valid_labels = mnist.validation.labels.astype(np.float32)\n",
        "test_labels = mnist.test.labels.astype(np.float32)\n",
        "\n",
        "# Features and Labels\n",
        "features = tf.placeholder(tf.float32, [None, n_input])\n",
        "labels = tf.placeholder(tf.float32, [None, n_classes])\n",
        "\n",
        "# Weights & bias\n",
        "weights = tf.Variable(tf.random_normal([n_input, n_classes]))\n",
        "bias = tf.Variable(tf.random_normal([n_classes]))\n",
        "\n",
        "# Logits - xW + b\n",
        "logits = tf.add(tf.matmul(features, weights), bias)\n",
        "\n",
        "# Define loss and optimizer\n",
        "learning_rate = tf.placeholder(tf.float32)\n",
        "cost = tf.reduce_mean(tf.nn.softmax_cross_entropy_with_logits(logits=logits, labels=labels))\n",
        "optimizer = tf.train.GradientDescentOptimizer(learning_rate=learning_rate).minimize(cost)\n",
        "\n",
        "# Calculate accuracy\n",
        "correct_prediction = tf.equal(tf.argmax(logits, 1), tf.argmax(labels, 1))\n",
        "accuracy = tf.reduce_mean(tf.cast(correct_prediction, tf.float32))\n",
        "\n",
        "init = tf.global_variables_initializer()\n",
        "\n",
        "batch_size = 128\n",
        "epochs = 10\n",
        "learn_rate = 0.001\n",
        "\n",
        "train_batches = batches(batch_size, train_features, train_labels)\n",
        "\n",
        "with tf.Session() as sess:\n",
        "    sess.run(init)\n",
        "\n",
        "    # Training cycle\n",
        "    for epoch_i in range(epochs):\n",
        "\n",
        "        # Loop over all batches\n",
        "        for batch_features, batch_labels in train_batches:\n",
        "            train_feed_dict = {\n",
        "                features: batch_features,\n",
        "                labels: batch_labels,\n",
        "                learning_rate: learn_rate}\n",
        "            sess.run(optimizer, feed_dict=train_feed_dict)\n",
        "\n",
        "        # Print cost and validation accuracy of an epoch\n",
        "        print_epoch_stats(epoch_i, sess, batch_features, batch_labels)\n",
        "\n",
        "    # Calculate accuracy for test dataset\n",
        "    test_accuracy = sess.run(\n",
        "        accuracy,\n",
        "        feed_dict={features: test_features, labels: test_labels})\n",
        "\n",
        "print('Test Accuracy: {}'.format(test_accuracy))"
      ],
      "execution_count": 0,
      "outputs": []
    },
    {
      "metadata": {
        "id": "V43_IFEiLyvp",
        "colab_type": "code",
        "colab": {}
      },
      "cell_type": "code",
      "source": [
        "##############################\n",
        "#Complete Lab\n",
        "##############################"
      ],
      "execution_count": 0,
      "outputs": []
    },
    {
      "metadata": {
        "id": "9vICC5B2LzBx",
        "colab_type": "code",
        "colab": {
          "base_uri": "https://localhost:8080/",
          "height": 34
        },
        "outputId": "50b0f9aa-031a-473f-d99a-229a95459fa7"
      },
      "cell_type": "code",
      "source": [
        "import hashlib\n",
        "import os\n",
        "import pickle\n",
        "from urllib.request import urlretrieve\n",
        "\n",
        "import numpy as np\n",
        "from PIL import Image\n",
        "from sklearn.model_selection import train_test_split\n",
        "from sklearn.preprocessing import LabelBinarizer\n",
        "from sklearn.utils import resample\n",
        "from tqdm import tqdm\n",
        "from zipfile import ZipFile\n",
        "\n",
        "print('All modules imported.')"
      ],
      "execution_count": 15,
      "outputs": [
        {
          "output_type": "stream",
          "text": [
            "All modules imported.\n"
          ],
          "name": "stdout"
        }
      ]
    },
    {
      "metadata": {
        "id": "Ab4gtAEbL3FG",
        "colab_type": "code",
        "colab": {
          "base_uri": "https://localhost:8080/",
          "height": 34
        },
        "outputId": "17ed01b7-a3b9-4414-b4c8-8539c0c8a6f4"
      },
      "cell_type": "code",
      "source": [
        "def download(url, file):\n",
        "    \"\"\"\n",
        "    Download file from <url>\n",
        "    :param url: URL to file\n",
        "    :param file: Local file path\n",
        "    \"\"\"\n",
        "    if not os.path.isfile(file):\n",
        "        print('Downloading ' + file + '...')\n",
        "        urlretrieve(url, file)\n",
        "        print('Download Finished')\n",
        "\n",
        "##Download Parto from AMAZON\n",
        "#PUT HERE THE CODE\n",
        "\n",
        "# Wait until you see that all files have been downloaded.\n",
        "print('All files downloaded.')"
      ],
      "execution_count": 37,
      "outputs": [
        {
          "output_type": "stream",
          "text": [
            "All files downloaded.\n"
          ],
          "name": "stdout"
        }
      ]
    },
    {
      "metadata": {
        "id": "tbgH6WFBL-Ga",
        "colab_type": "code",
        "colab": {
          "base_uri": "https://localhost:8080/",
          "height": 68
        },
        "outputId": "bb0f0400-5c86-4564-f7e8-f9a03cd5c5b8"
      },
      "cell_type": "code",
      "source": [
        "def uncompress_features_labels(file):\n",
        "    \"\"\"\n",
        "    Uncompress features and labels from a zip file\n",
        "    :param file: The zip file to extract the data from\n",
        "    \"\"\"\n",
        "    features = []\n",
        "    labels = []\n",
        "\n",
        "    with ZipFile(file) as zipf:\n",
        "        # Progress Bar\n",
        "        filenames_pbar = tqdm(zipf.namelist(), unit='files')\n",
        "        \n",
        "        # Get features and labels from all files\n",
        "        for filename in filenames_pbar:\n",
        "            # Check if the file is a directory\n",
        "            if not filename.endswith('/'):\n",
        "                with zipf.open(filename) as image_file:\n",
        "                    image = Image.open(image_file)\n",
        "                    image.load()\n",
        "                    # Load image data as 1 dimensional array\n",
        "                    # We're using float32 to save on memory space\n",
        "                    feature = np.array(image, dtype=np.float32).flatten()\n",
        "\n",
        "                # Get the the letter from the filename.  This is the letter of the image.\n",
        "                label = os.path.split(filename)[1][0]\n",
        "\n",
        "                features.append(feature)\n",
        "                labels.append(label)\n",
        "    return np.array(features), np.array(labels)\n",
        "\n",
        "# Get the features and labels from the zip files\n",
        "train_features, train_labels = uncompress_features_labels('notMNIST_train.zip')\n",
        "test_features, test_labels = uncompress_features_labels('notMNIST_test.zip')\n",
        "\n",
        "# Limit the amount of data to work with a docker container\n",
        "docker_size_limit = 150000\n",
        "train_features, train_labels = resample(train_features, train_labels, n_samples=docker_size_limit)\n",
        "\n",
        "# Set flags for feature engineering.  This will prevent you from skipping an important step.\n",
        "is_features_normal = False\n",
        "is_labels_encod = False\n",
        "\n",
        "# Wait until you see that all features and labels have been uncompressed.\n",
        "print('All features and labels uncompressed.')"
      ],
      "execution_count": 17,
      "outputs": [
        {
          "output_type": "stream",
          "text": [
            "100%|██████████| 210001/210001 [00:46<00:00, 4532.97files/s]\n",
            "100%|██████████| 10001/10001 [00:02<00:00, 4561.28files/s]\n"
          ],
          "name": "stderr"
        },
        {
          "output_type": "stream",
          "text": [
            "All features and labels uncompressed.\n"
          ],
          "name": "stdout"
        }
      ]
    },
    {
      "metadata": {
        "id": "NLQ8oRzRMA-Y",
        "colab_type": "code",
        "colab": {
          "base_uri": "https://localhost:8080/",
          "height": 34
        },
        "outputId": "ea315f65-19f1-4594-b96d-929968bf9ada"
      },
      "cell_type": "code",
      "source": [
        "# Problem 1 - Implement Min-Max scaling for grayscale image data\n",
        "def normalize_grayscale(image_data):\n",
        "    \"\"\"\n",
        "    Normalize the image data with Min-Max scaling to a range of [0.1, 0.9]\n",
        "    :param image_data: The image data to be normalized\n",
        "    :return: Normalized image data\n",
        "    \"\"\"\n",
        "    # TODO: Implement Min-Max scaling for grayscale image data\n",
        "    a = 0.1\n",
        "    b = 0.9\n",
        "    grayscale_min = 0\n",
        "    grayscale_max = 255\n",
        "    return a + ( ( (image_data - grayscale_min)*(b - a) )/( grayscale_max - grayscale_min)) \n",
        "\n",
        "### DON'T MODIFY ANYTHING BELOW ###\n",
        "# Test Cases\n",
        "np.testing.assert_array_almost_equal(\n",
        "    normalize_grayscale(np.array([0, 1, 2, 3, 4, 5, 6, 7, 8, 9, 10, 255])),\n",
        "    [0.1, 0.103137254902, 0.106274509804, 0.109411764706, 0.112549019608, 0.11568627451, 0.118823529412, 0.121960784314,\n",
        "     0.125098039216, 0.128235294118, 0.13137254902, 0.9],\n",
        "    decimal=3)\n",
        "np.testing.assert_array_almost_equal(\n",
        "    normalize_grayscale(np.array([0, 1, 10, 20, 30, 40, 233, 244, 254,255])),\n",
        "    [0.1, 0.103137254902, 0.13137254902, 0.162745098039, 0.194117647059, 0.225490196078, 0.830980392157, 0.865490196078,\n",
        "     0.896862745098, 0.9])\n",
        "\n",
        "if not is_features_normal:\n",
        "    train_features = normalize_grayscale(train_features)\n",
        "    test_features = normalize_grayscale(test_features)\n",
        "    is_features_normal = True\n",
        "\n",
        "print('Tests Passed!')"
      ],
      "execution_count": 18,
      "outputs": [
        {
          "output_type": "stream",
          "text": [
            "Tests Passed!\n"
          ],
          "name": "stdout"
        }
      ]
    },
    {
      "metadata": {
        "id": "oGet7YgZMCMT",
        "colab_type": "code",
        "colab": {
          "base_uri": "https://localhost:8080/",
          "height": 34
        },
        "outputId": "b6aac6e0-bbdf-47d9-eb7d-c7b8058d496a"
      },
      "cell_type": "code",
      "source": [
        "if not is_labels_encod:\n",
        "    # Turn labels into numbers and apply One-Hot Encoding\n",
        "    encoder = LabelBinarizer()\n",
        "    encoder.fit(train_labels)\n",
        "    train_labels = encoder.transform(train_labels)\n",
        "    test_labels = encoder.transform(test_labels)\n",
        "\n",
        "    # Change to float32, so it can be multiplied against the features in TensorFlow, which are float32\n",
        "    train_labels = train_labels.astype(np.float32)\n",
        "    test_labels = test_labels.astype(np.float32)\n",
        "    is_labels_encod = True\n",
        "\n",
        "print('Labels One-Hot Encoded')"
      ],
      "execution_count": 19,
      "outputs": [
        {
          "output_type": "stream",
          "text": [
            "Labels One-Hot Encoded\n"
          ],
          "name": "stdout"
        }
      ]
    },
    {
      "metadata": {
        "id": "Lgu_Ey53MEL5",
        "colab_type": "code",
        "colab": {
          "base_uri": "https://localhost:8080/",
          "height": 34
        },
        "outputId": "fa070289-e623-445b-a0b5-07a07e6aa50b"
      },
      "cell_type": "code",
      "source": [
        "assert is_features_normal, 'You skipped the step to normalize the features'\n",
        "assert is_labels_encod, 'You skipped the step to One-Hot Encode the labels'\n",
        "\n",
        "# Get randomized datasets for training and validation\n",
        "train_features, valid_features, train_labels, valid_labels = train_test_split(\n",
        "    train_features,\n",
        "    train_labels,\n",
        "    test_size=0.05,\n",
        "    random_state=832289)\n",
        "\n",
        "print('Training features and labels randomized and split.')"
      ],
      "execution_count": 20,
      "outputs": [
        {
          "output_type": "stream",
          "text": [
            "Training features and labels randomized and split.\n"
          ],
          "name": "stdout"
        }
      ]
    },
    {
      "metadata": {
        "id": "5dHtQFOwMHkd",
        "colab_type": "code",
        "colab": {
          "base_uri": "https://localhost:8080/",
          "height": 51
        },
        "outputId": "553f363c-6267-48b3-cd14-868f29e714b2"
      },
      "cell_type": "code",
      "source": [
        "# Save the data for easy access\n",
        "pickle_file = 'notMNIST.pickle'\n",
        "if not os.path.isfile(pickle_file):\n",
        "    print('Saving data to pickle file...')\n",
        "    try:\n",
        "        with open('notMNIST.pickle', 'wb') as pfile:\n",
        "            pickle.dump(\n",
        "                {\n",
        "                    'train_dataset': train_features,\n",
        "                    'train_labels': train_labels,\n",
        "                    'valid_dataset': valid_features,\n",
        "                    'valid_labels': valid_labels,\n",
        "                    'test_dataset': test_features,\n",
        "                    'test_labels': test_labels,\n",
        "                },\n",
        "                pfile, pickle.HIGHEST_PROTOCOL)\n",
        "    except Exception as e:\n",
        "        print('Unable to save data to', pickle_file, ':', e)\n",
        "        raise\n",
        "\n",
        "print('Data cached in pickle file.')"
      ],
      "execution_count": 21,
      "outputs": [
        {
          "output_type": "stream",
          "text": [
            "Saving data to pickle file...\n",
            "Data cached in pickle file.\n"
          ],
          "name": "stdout"
        }
      ]
    },
    {
      "metadata": {
        "id": "5nMu57-pMJsj",
        "colab_type": "code",
        "colab": {
          "base_uri": "https://localhost:8080/",
          "height": 34
        },
        "outputId": "d2d3e43e-f4e3-4e95-a21a-7d08e9d958e2"
      },
      "cell_type": "code",
      "source": [
        "%matplotlib inline\n",
        "\n",
        "# Load the modules\n",
        "import pickle\n",
        "import math\n",
        "\n",
        "import numpy as np\n",
        "import tensorflow as tf\n",
        "from tqdm import tqdm\n",
        "import matplotlib.pyplot as plt\n",
        "\n",
        "# Reload the data\n",
        "pickle_file = 'notMNIST.pickle'\n",
        "with open(pickle_file, 'rb') as f:\n",
        "  pickle_data = pickle.load(f)\n",
        "  train_features = pickle_data['train_dataset']\n",
        "  train_labels = pickle_data['train_labels']\n",
        "  valid_features = pickle_data['valid_dataset']\n",
        "  valid_labels = pickle_data['valid_labels']\n",
        "  test_features = pickle_data['test_dataset']\n",
        "  test_labels = pickle_data['test_labels']\n",
        "  del pickle_data  # Free up memory\n",
        "\n",
        "\n",
        "print('Data and modules loaded.')"
      ],
      "execution_count": 22,
      "outputs": [
        {
          "output_type": "stream",
          "text": [
            "Data and modules loaded.\n"
          ],
          "name": "stdout"
        }
      ]
    },
    {
      "metadata": {
        "id": "f1gk-HUdMNWA",
        "colab_type": "code",
        "colab": {
          "base_uri": "https://localhost:8080/",
          "height": 102
        },
        "outputId": "d1f444e6-df3f-47e0-a9ae-1221f466872f"
      },
      "cell_type": "code",
      "source": [
        "features_count = 784\n",
        "labels_count = 10\n",
        "\n",
        "# TODO: Set the features and labels tensors\n",
        "features = tf.placeholder(tf.float32)\n",
        "labels = tf.placeholder(tf.float32)\n",
        "\n",
        "# TODO: Set the weights and biases tensors\n",
        "weights = tf.Variable(tf.truncated_normal((features_count, labels_count)))\n",
        "biases = tf.Variable(tf.zeros(labels_count))\n",
        "\n",
        "\n",
        "\n",
        "### DON'T MODIFY ANYTHING BELOW ###\n",
        "\n",
        "#Test Cases\n",
        "from tensorflow.python.ops.variables import Variable\n",
        "\n",
        "assert features._op.name.startswith('Placeholder'), 'features must be a placeholder'\n",
        "assert labels._op.name.startswith('Placeholder'), 'labels must be a placeholder'\n",
        "assert isinstance(weights, Variable), 'weights must be a TensorFlow variable'\n",
        "assert isinstance(biases, Variable), 'biases must be a TensorFlow variable'\n",
        "\n",
        "assert features._shape == None or (\\\n",
        "    features._shape.dims[0].value is None and\\\n",
        "    features._shape.dims[1].value in [None, 784]), 'The shape of features is incorrect'\n",
        "assert labels._shape  == None or (\\\n",
        "    labels._shape.dims[0].value is None and\\\n",
        "    labels._shape.dims[1].value in [None, 10]), 'The shape of labels is incorrect'\n",
        "assert weights._variable._shape == (784, 10), 'The shape of weights is incorrect'\n",
        "assert biases._variable._shape == (10), 'The shape of biases is incorrect'\n",
        "\n",
        "assert features._dtype == tf.float32, 'features must be type float32'\n",
        "assert labels._dtype == tf.float32, 'labels must be type float32'\n",
        "\n",
        "# Feed dicts for training, validation, and test session\n",
        "train_feed_dict = {features: train_features, labels: train_labels}\n",
        "valid_feed_dict = {features: valid_features, labels: valid_labels}\n",
        "test_feed_dict = {features: test_features, labels: test_labels}\n",
        "\n",
        "# Linear Function WX + b\n",
        "logits = tf.matmul(features, weights) + biases\n",
        "\n",
        "prediction = tf.nn.softmax(logits)\n",
        "\n",
        "# Cross entropy\n",
        "cross_entropy = -tf.reduce_sum(labels * tf.log(prediction), axis=1)\n",
        "\n",
        "# some students have encountered challenges using this function, and have resolved issues\n",
        "# using https://www.tensorflow.org/api_docs/python/tf/nn/softmax_cross_entropy_with_logits\n",
        "# please see this thread for more detail https://discussions.udacity.com/t/accuracy-0-10-in-the-intro-to-tensorflow-lab/272469/9\n",
        "\n",
        "# Training loss\n",
        "loss = tf.reduce_mean(cross_entropy)\n",
        "\n",
        "# Create an operation that initializes all variables\n",
        "init = tf.global_variables_initializer()\n",
        "\n",
        "# Test Cases\n",
        "with tf.Session() as session:\n",
        "    session.run(init)\n",
        "    session.run(loss, feed_dict=train_feed_dict)\n",
        "    session.run(loss, feed_dict=valid_feed_dict)\n",
        "    session.run(loss, feed_dict=test_feed_dict)\n",
        "    biases_data = session.run(biases)\n",
        "\n",
        "assert not np.count_nonzero(biases_data), 'biases must be zeros'\n",
        "\n",
        "print('Tests Passed!')"
      ],
      "execution_count": 23,
      "outputs": [
        {
          "output_type": "stream",
          "text": [
            "WARNING:tensorflow:Tensor._shape is private, use Tensor.shape instead. Tensor._shape will eventually be removed.\n",
            "WARNING:tensorflow:Tensor._shape is private, use Tensor.shape instead. Tensor._shape will eventually be removed.\n",
            "WARNING:tensorflow:Tensor._shape is private, use Tensor.shape instead. Tensor._shape will eventually be removed.\n",
            "WARNING:tensorflow:Tensor._shape is private, use Tensor.shape instead. Tensor._shape will eventually be removed.\n",
            "Tests Passed!\n"
          ],
          "name": "stdout"
        }
      ]
    },
    {
      "metadata": {
        "id": "1TZlxOlBMVw-",
        "colab_type": "code",
        "colab": {
          "base_uri": "https://localhost:8080/",
          "height": 34
        },
        "outputId": "ed5e7d9c-8f73-4c34-a890-42c89dac5e62"
      },
      "cell_type": "code",
      "source": [
        "# Determine if the predictions are correct\n",
        "is_correct_prediction = tf.equal(tf.argmax(prediction, 1), tf.argmax(labels, 1))\n",
        "# Calculate the accuracy of the predictions\n",
        "accuracy = tf.reduce_mean(tf.cast(is_correct_prediction, tf.float32))\n",
        "\n",
        "print('Accuracy function created.')"
      ],
      "execution_count": 24,
      "outputs": [
        {
          "output_type": "stream",
          "text": [
            "Accuracy function created.\n"
          ],
          "name": "stdout"
        }
      ]
    },
    {
      "metadata": {
        "id": "5jZyHCheMXE8",
        "colab_type": "code",
        "colab": {
          "base_uri": "https://localhost:8080/",
          "height": 484
        },
        "outputId": "62e2415c-ee32-4258-9efa-95dcb740166e"
      },
      "cell_type": "code",
      "source": [
        "# TODO: Find the best parameters for each configuration\n",
        "epochs = 10\n",
        "batch_size = 128\n",
        "learning_rate = 0.28\n",
        "\n",
        "\n",
        "\n",
        "### DON'T MODIFY ANYTHING BELOW ###\n",
        "# Gradient Descent\n",
        "optimizer = tf.train.GradientDescentOptimizer(learning_rate).minimize(loss)    \n",
        "\n",
        "# The accuracy measured against the validation set\n",
        "validation_accuracy = 0.0\n",
        "\n",
        "# Measurements use for graphing loss and accuracy\n",
        "log_batch_step = 50\n",
        "batches = []\n",
        "loss_batch = []\n",
        "train_acc_batch = []\n",
        "valid_acc_batch = []\n",
        "\n",
        "with tf.Session() as session:\n",
        "    session.run(init)\n",
        "    batch_count = int(math.ceil(len(train_features)/batch_size))\n",
        "\n",
        "    for epoch_i in range(epochs):\n",
        "        \n",
        "        # Progress bar\n",
        "        batches_pbar = tqdm(range(batch_count), desc='Epoch {:>2}/{}'.format(epoch_i+1, epochs), unit='batches')\n",
        "        \n",
        "        # The training cycle\n",
        "        for batch_i in batches_pbar:\n",
        "            # Get a batch of training features and labels\n",
        "            batch_start = batch_i*batch_size\n",
        "            batch_features = train_features[batch_start:batch_start + batch_size]\n",
        "            batch_labels = train_labels[batch_start:batch_start + batch_size]\n",
        "\n",
        "            # Run optimizer and get loss\n",
        "            _, l = session.run(\n",
        "                [optimizer, loss],\n",
        "                feed_dict={features: batch_features, labels: batch_labels})\n",
        "\n",
        "            # Log every 50 batches\n",
        "            if not batch_i % log_batch_step:\n",
        "                # Calculate Training and Validation accuracy\n",
        "                training_accuracy = session.run(accuracy, feed_dict=train_feed_dict)\n",
        "                validation_accuracy = session.run(accuracy, feed_dict=valid_feed_dict)\n",
        "\n",
        "                # Log batches\n",
        "                previous_batch = batches[-1] if batches else 0\n",
        "                batches.append(log_batch_step + previous_batch)\n",
        "                loss_batch.append(l)\n",
        "                train_acc_batch.append(training_accuracy)\n",
        "                valid_acc_batch.append(validation_accuracy)\n",
        "\n",
        "        # Check accuracy against Validation data\n",
        "        validation_accuracy = session.run(accuracy, feed_dict=valid_feed_dict)\n",
        "\n",
        "loss_plot = plt.subplot(211)\n",
        "loss_plot.set_title('Loss')\n",
        "loss_plot.plot(batches, loss_batch, 'g')\n",
        "loss_plot.set_xlim([batches[0], batches[-1]])\n",
        "acc_plot = plt.subplot(212)\n",
        "acc_plot.set_title('Accuracy')\n",
        "acc_plot.plot(batches, train_acc_batch, 'r', label='Training Accuracy')\n",
        "acc_plot.plot(batches, valid_acc_batch, 'x', label='Validation Accuracy')\n",
        "acc_plot.set_ylim([0, 1.0])\n",
        "acc_plot.set_xlim([batches[0], batches[-1]])\n",
        "acc_plot.legend(loc=4)\n",
        "plt.tight_layout()\n",
        "plt.show()\n",
        "\n",
        "print('Validation accuracy at {}'.format(validation_accuracy))"
      ],
      "execution_count": 30,
      "outputs": [
        {
          "output_type": "stream",
          "text": [
            "Epoch  1/10: 100%|██████████| 1114/1114 [00:08<00:00, 138.37batches/s]\n",
            "Epoch  2/10: 100%|██████████| 1114/1114 [00:08<00:00, 132.85batches/s]\n",
            "Epoch  3/10: 100%|██████████| 1114/1114 [00:08<00:00, 132.98batches/s]\n",
            "Epoch  4/10: 100%|██████████| 1114/1114 [00:08<00:00, 134.99batches/s]\n",
            "Epoch  5/10: 100%|██████████| 1114/1114 [00:08<00:00, 133.02batches/s]\n",
            "Epoch  6/10: 100%|██████████| 1114/1114 [00:08<00:00, 133.25batches/s]\n",
            "Epoch  7/10: 100%|██████████| 1114/1114 [00:08<00:00, 132.48batches/s]\n",
            "Epoch  8/10: 100%|██████████| 1114/1114 [00:08<00:00, 133.42batches/s]\n",
            "Epoch  9/10: 100%|██████████| 1114/1114 [00:08<00:00, 132.54batches/s]\n",
            "Epoch 10/10: 100%|██████████| 1114/1114 [00:08<00:00, 132.78batches/s]\n"
          ],
          "name": "stderr"
        },
        {
          "output_type": "display_data",
          "data": {
            "image/png": "[encoded data removed]",
            "text/plain": [
              "<Figure size 432x288 with 2 Axes>"
            ]
          },
          "metadata": {
            "tags": []
          }
        },
        {
          "output_type": "stream",
          "text": [
            "Validation accuracy at 0.7282666563987732\n"
          ],
          "name": "stdout"
        }
      ]
    },
    {
      "metadata": {
        "id": "RE_moMPuMctW",
        "colab_type": "code",
        "colab": {
          "base_uri": "https://localhost:8080/",
          "height": 282
        },
        "outputId": "5585b103-04fe-47ae-d7be-815140481e52"
      },
      "cell_type": "code",
      "source": [
        "# TODO: Set the epochs, batch_size, and learning_rate with the best parameters from problem 3\n",
        "epochs = 4\n",
        "batch_size = 100\n",
        "learning_rate = 0.2\n",
        "\n",
        "\n",
        "\n",
        "### DON'T MODIFY ANYTHING BELOW ###\n",
        "# The accuracy measured against the test set\n",
        "test_accuracy = 0.0\n",
        "\n",
        "with tf.Session() as session:\n",
        "    \n",
        "    session.run(init)\n",
        "    batch_count = int(math.ceil(len(train_features)/batch_size))\n",
        "\n",
        "    for epoch_i in range(epochs):\n",
        "        \n",
        "        # Progress bar\n",
        "        batches_pbar = tqdm(range(batch_count), desc='Epoch {:>2}/{}'.format(epoch_i+1, epochs), unit='batches')\n",
        "        \n",
        "        # The training cycle\n",
        "        for batch_i in batches_pbar:\n",
        "            # Get a batch of training features and labels\n",
        "            batch_start = batch_i*batch_size\n",
        "            batch_features = train_features[batch_start:batch_start + batch_size]\n",
        "            batch_labels = train_labels[batch_start:batch_start + batch_size]\n",
        "\n",
        "            # Run optimizer\n",
        "            _ = session.run(optimizer, feed_dict={features: batch_features, labels: batch_labels})\n",
        "\n",
        "        # Check accuracy against Test data\n",
        "        test_accuracy = session.run(accuracy, feed_dict=test_feed_dict)\n",
        "\n",
        "\n",
        "assert test_accuracy >= 0.80, 'Test accuracy at {}, should be equal to or greater than 0.80'.format(test_accuracy)\n",
        "print('Nice Job! Test Accuracy is {}'.format(test_accuracy))"
      ],
      "execution_count": 36,
      "outputs": [
        {
          "output_type": "stream",
          "text": [
            "Epoch  1/4: 100%|██████████| 1425/1425 [00:02<00:00, 556.00batches/s]\n",
            "Epoch  2/4: 100%|██████████| 1425/1425 [00:02<00:00, 530.87batches/s]\n",
            "Epoch  3/4: 100%|██████████| 1425/1425 [00:02<00:00, 537.11batches/s]\n",
            "Epoch  4/4: 100%|██████████| 1425/1425 [00:02<00:00, 543.16batches/s]\n"
          ],
          "name": "stderr"
        },
        {
          "output_type": "error",
          "ename": "AssertionError",
          "evalue": "ignored",
          "traceback": [
            "\u001b[0;31m---------------------------------------------------------------------------\u001b[0m",
            "\u001b[0;31mAssertionError\u001b[0m                            Traceback (most recent call last)",
            "\u001b[0;32m<ipython-input-36-2445e5f56601>\u001b[0m in \u001b[0;36m<module>\u001b[0;34m()\u001b[0m\n\u001b[1;32m     33\u001b[0m \u001b[0;34m\u001b[0m\u001b[0m\n\u001b[1;32m     34\u001b[0m \u001b[0;34m\u001b[0m\u001b[0m\n\u001b[0;32m---> 35\u001b[0;31m \u001b[0;32massert\u001b[0m \u001b[0mtest_accuracy\u001b[0m \u001b[0;34m>=\u001b[0m \u001b[0;36m0.80\u001b[0m\u001b[0;34m,\u001b[0m \u001b[0;34m'Test accuracy at {}, should be equal to or greater than 0.80'\u001b[0m\u001b[0;34m.\u001b[0m\u001b[0mformat\u001b[0m\u001b[0;34m(\u001b[0m\u001b[0mtest_accuracy\u001b[0m\u001b[0;34m)\u001b[0m\u001b[0;34m\u001b[0m\u001b[0;34m\u001b[0m\u001b[0m\n\u001b[0m\u001b[1;32m     36\u001b[0m \u001b[0mprint\u001b[0m\u001b[0;34m(\u001b[0m\u001b[0;34m'Nice Job! Test Accuracy is {}'\u001b[0m\u001b[0;34m.\u001b[0m\u001b[0mformat\u001b[0m\u001b[0;34m(\u001b[0m\u001b[0mtest_accuracy\u001b[0m\u001b[0;34m)\u001b[0m\u001b[0;34m)\u001b[0m\u001b[0;34m\u001b[0m\u001b[0;34m\u001b[0m\u001b[0m\n",
            "\u001b[0;31mAssertionError\u001b[0m: Test accuracy at 0.10000000149011612, should be equal to or greater than 0.80"
          ]
        }
      ]
    }
  ]
}